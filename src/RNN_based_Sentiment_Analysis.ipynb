{
  "cells": [
    {
      "cell_type": "markdown",
      "metadata": {
        "id": "EQISD0tPpiVR"
      },
      "source": [
        "## Preprocessing\n"
      ]
    },
    {
      "cell_type": "markdown",
      "metadata": {
        "id": "Z-TkfPhIpup7"
      },
      "source": [
        "First, The required libraries are imported."
      ]
    },
    {
      "cell_type": "code",
      "execution_count": null,
      "metadata": {
        "id": "aDvCo1cmm9lF"
      },
      "outputs": [],
      "source": [
        "!pip install hazm"
      ]
    },
    {
      "cell_type": "code",
      "execution_count": null,
      "metadata": {
        "id": "ZyiXakk2X1Pr"
      },
      "outputs": [],
      "source": [
        "import json\n",
        "\n",
        "\n",
        "import numpy as np\n",
        "import pandas as pd\n",
        "import seaborn as sns\n",
        "from pylab import rcParams\n",
        "import matplotlib.pyplot as plt\n",
        "from matplotlib import rc\n",
        "from sklearn.model_selection import train_test_split\n",
        "from sklearn.metrics import confusion_matrix, classification_report\n",
        "from collections import defaultdict\n",
        "from textwrap import wrap\n",
        "\n",
        "import numpy as np \n",
        "import pandas as pd \n",
        "\n",
        "from sklearn.feature_extraction.text import CountVectorizer\n",
        "from keras.preprocessing.text import Tokenizer\n",
        "from keras.preprocessing.sequence import pad_sequences\n",
        "from sklearn.model_selection import train_test_split\n",
        "from keras.utils.np_utils import to_categorical\n",
        "import keras\n",
        "from keras import optimizers\n",
        "from keras import backend as K\n",
        "from keras import regularizers\n",
        "from keras.models import Sequential\n",
        "from keras.layers import Dense, Activation, Dropout, Flatten\n",
        "from keras.layers import Embedding, Conv1D, MaxPooling1D, GlobalMaxPooling1D\n",
        "from tensorflow.keras.layers import Embedding, LSTM, Dense, Dropout, Bidirectional\n",
        "from keras.utils.vis_utils import plot_model\n",
        "from keras.preprocessing import sequence\n",
        "from keras.callbacks import EarlyStopping, ModelCheckpoint, CSVLogger\n",
        "from sklearn.model_selection import GridSearchCV, PredefinedSplit\n",
        "from keras.wrappers.scikit_learn import KerasClassifier\n",
        "from sklearn.feature_extraction.text import CountVectorizer\n",
        "from keras.preprocessing.text import Tokenizer\n",
        "from keras.preprocessing.sequence import pad_sequences\n",
        "\n",
        "import re\n",
        "from hazm import *\n",
        "from tqdm import tqdm  \n",
        "import codecs\n",
        "import nltk\n",
        "from nltk.tokenize import word_tokenize\n",
        "from __future__ import unicode_literals\n",
        "from hazm import Normalizer\n",
        "\n",
        "\n",
        "\n",
        "\n",
        "\n",
        "%matplotlib inline\n",
        "%config InlineBackend.figure_format='retina'\n",
        "\n",
        "sns.set(style='whitegrid', palette='muted', font_scale=1.2)\n",
        "\n",
        "HAPPY_COLORS_PALETTE = [\"#01BEFE\", \"#FFDD00\", \"#FF7D00\", \"#FF006D\", \"#ADFF02\", \"#8F00FF\"]\n",
        "\n",
        "sns.set_palette(sns.color_palette(HAPPY_COLORS_PALETTE))\n",
        "\n",
        "rcParams['figure.figsize'] = 12, 8\n",
        "\n",
        "RANDOM_SEED = 42\n",
        "np.random.seed(RANDOM_SEED)"
      ]
    },
    {
      "cell_type": "markdown",
      "source": [
        "Loading the annotated news"
      ],
      "metadata": {
        "id": "J0vmuJasZPqS"
      }
    },
    {
      "cell_type": "code",
      "execution_count": null,
      "metadata": {
        "id": "4dak1_t3ZMnH"
      },
      "outputs": [],
      "source": [
        "with open(\"/content/dataset_annotated_sentiment.json\") as f:\n",
        "  data = json.load(f)"
      ]
    },
    {
      "cell_type": "markdown",
      "source": [
        "Dividing the dataset into train, validation, and test set."
      ],
      "metadata": {
        "id": "NkS_x19AZXRV"
      }
    },
    {
      "cell_type": "code",
      "execution_count": null,
      "metadata": {
        "id": "xRXaryMHZPrB"
      },
      "outputs": [],
      "source": [
        "train_raw_text, train_raw_labels = [data['train'][i]['text'] for i in range(len(data['train']))], [data['train'][i]['annotations'] for i in range(len(data['train']))]\n",
        "eval_raw_text, eval_raw_labels = [data['eval'][i]['text'] for i in range(len(data['eval']))], [data['eval'][i]['annotations'] for i in range(len(data['eval']))]\n",
        "test_raw_text, test_raw_labels = [data['test'][i]['text'] for i in range(len(data['test']))],  [data['test'][i]['annotations'] for i in range(len(data['test']))]\n",
        "\n",
        "\n",
        "train_df = pd.DataFrame({\"raw\": train_raw_text, \"raw_label\": train_raw_labels})\n",
        "eval_df = pd.DataFrame({\"raw\": eval_raw_text, \"raw_label\": eval_raw_labels})\n",
        "test_df = pd.DataFrame({\"raw\": test_raw_text, \"raw_label\": test_raw_labels})"
      ]
    },
    {
      "cell_type": "code",
      "execution_count": null,
      "metadata": {
        "colab": {
          "base_uri": "https://localhost:8080/",
          "height": 424
        },
        "id": "pZhJNHsEZmEI",
        "outputId": "14ada827-c3e4-47d6-d8c5-317647234dce"
      },
      "outputs": [
        {
          "output_type": "execute_result",
          "data": {
            "text/plain": [
              "                                                    raw           raw_label\n",
              "0     آتش سوزی کارخانه جمیل نخ گسترده است / اعزام نی...  [منفی, منفی, منفی]\n",
              "1     تجهیزات باکیفیت صنعتی آشپزخانه و کافی شاپ\\n___...  [مثبت, مثبت, خنثی]\n",
              "2     برگزاری جشنواره رسانه ابوذر در دی ماه سال جاری...  [مثبت, خنثی, خنثی]\n",
              "3     افزایش 80 درصدی فروش سلاح در آمریکا در ژانویه ...  [منفی, منفی, منفی]\n",
              "4     بازداشت دو تروریست که در بمب گذاری مسیر زائران...        [خنثی, مثبت]\n",
              "...                                                 ...                 ...\n",
              "1445  پیش بینی پیر جماران!(یادداشت روز)\\n___________...  [خنثی, مثبت, خنثی]\n",
              "1446  افتتاح یک باب مدرسه خیرساز در فاریاب\\n________...  [مثبت, مثبت, مثبت]\n",
              "1447  چرا وزارت نفت درباره مطالبه راه اندازی دفتر نف...              [منفی]\n",
              "1448  اطلاع رسانی عجیب پرسپولیس از تمرین امروز\\n____...  [خنثی, خنثی, خنثی]\n",
              "1449  90درصد سوختگی ها قابل پیشگیری است\\n___________...  [منفی, منفی, منفی]\n",
              "\n",
              "[1450 rows x 2 columns]"
            ],
            "text/html": [
              "\n",
              "  <div id=\"df-75752cb8-2acf-453f-a9e1-c1aa18c7910e\">\n",
              "    <div class=\"colab-df-container\">\n",
              "      <div>\n",
              "<style scoped>\n",
              "    .dataframe tbody tr th:only-of-type {\n",
              "        vertical-align: middle;\n",
              "    }\n",
              "\n",
              "    .dataframe tbody tr th {\n",
              "        vertical-align: top;\n",
              "    }\n",
              "\n",
              "    .dataframe thead th {\n",
              "        text-align: right;\n",
              "    }\n",
              "</style>\n",
              "<table border=\"1\" class=\"dataframe\">\n",
              "  <thead>\n",
              "    <tr style=\"text-align: right;\">\n",
              "      <th></th>\n",
              "      <th>raw</th>\n",
              "      <th>raw_label</th>\n",
              "    </tr>\n",
              "  </thead>\n",
              "  <tbody>\n",
              "    <tr>\n",
              "      <th>0</th>\n",
              "      <td>آتش سوزی کارخانه جمیل نخ گسترده است / اعزام نی...</td>\n",
              "      <td>[منفی, منفی, منفی]</td>\n",
              "    </tr>\n",
              "    <tr>\n",
              "      <th>1</th>\n",
              "      <td>تجهیزات باکیفیت صنعتی آشپزخانه و کافی شاپ\\n___...</td>\n",
              "      <td>[مثبت, مثبت, خنثی]</td>\n",
              "    </tr>\n",
              "    <tr>\n",
              "      <th>2</th>\n",
              "      <td>برگزاری جشنواره رسانه ابوذر در دی ماه سال جاری...</td>\n",
              "      <td>[مثبت, خنثی, خنثی]</td>\n",
              "    </tr>\n",
              "    <tr>\n",
              "      <th>3</th>\n",
              "      <td>افزایش 80 درصدی فروش سلاح در آمریکا در ژانویه ...</td>\n",
              "      <td>[منفی, منفی, منفی]</td>\n",
              "    </tr>\n",
              "    <tr>\n",
              "      <th>4</th>\n",
              "      <td>بازداشت دو تروریست که در بمب گذاری مسیر زائران...</td>\n",
              "      <td>[خنثی, مثبت]</td>\n",
              "    </tr>\n",
              "    <tr>\n",
              "      <th>...</th>\n",
              "      <td>...</td>\n",
              "      <td>...</td>\n",
              "    </tr>\n",
              "    <tr>\n",
              "      <th>1445</th>\n",
              "      <td>پیش بینی پیر جماران!(یادداشت روز)\\n___________...</td>\n",
              "      <td>[خنثی, مثبت, خنثی]</td>\n",
              "    </tr>\n",
              "    <tr>\n",
              "      <th>1446</th>\n",
              "      <td>افتتاح یک باب مدرسه خیرساز در فاریاب\\n________...</td>\n",
              "      <td>[مثبت, مثبت, مثبت]</td>\n",
              "    </tr>\n",
              "    <tr>\n",
              "      <th>1447</th>\n",
              "      <td>چرا وزارت نفت درباره مطالبه راه اندازی دفتر نف...</td>\n",
              "      <td>[منفی]</td>\n",
              "    </tr>\n",
              "    <tr>\n",
              "      <th>1448</th>\n",
              "      <td>اطلاع رسانی عجیب پرسپولیس از تمرین امروز\\n____...</td>\n",
              "      <td>[خنثی, خنثی, خنثی]</td>\n",
              "    </tr>\n",
              "    <tr>\n",
              "      <th>1449</th>\n",
              "      <td>90درصد سوختگی ها قابل پیشگیری است\\n___________...</td>\n",
              "      <td>[منفی, منفی, منفی]</td>\n",
              "    </tr>\n",
              "  </tbody>\n",
              "</table>\n",
              "<p>1450 rows × 2 columns</p>\n",
              "</div>\n",
              "      <button class=\"colab-df-convert\" onclick=\"convertToInteractive('df-75752cb8-2acf-453f-a9e1-c1aa18c7910e')\"\n",
              "              title=\"Convert this dataframe to an interactive table.\"\n",
              "              style=\"display:none;\">\n",
              "        \n",
              "  <svg xmlns=\"http://www.w3.org/2000/svg\" height=\"24px\"viewBox=\"0 0 24 24\"\n",
              "       width=\"24px\">\n",
              "    <path d=\"M0 0h24v24H0V0z\" fill=\"none\"/>\n",
              "    <path d=\"M18.56 5.44l.94 2.06.94-2.06 2.06-.94-2.06-.94-.94-2.06-.94 2.06-2.06.94zm-11 1L8.5 8.5l.94-2.06 2.06-.94-2.06-.94L8.5 2.5l-.94 2.06-2.06.94zm10 10l.94 2.06.94-2.06 2.06-.94-2.06-.94-.94-2.06-.94 2.06-2.06.94z\"/><path d=\"M17.41 7.96l-1.37-1.37c-.4-.4-.92-.59-1.43-.59-.52 0-1.04.2-1.43.59L10.3 9.45l-7.72 7.72c-.78.78-.78 2.05 0 2.83L4 21.41c.39.39.9.59 1.41.59.51 0 1.02-.2 1.41-.59l7.78-7.78 2.81-2.81c.8-.78.8-2.07 0-2.86zM5.41 20L4 18.59l7.72-7.72 1.47 1.35L5.41 20z\"/>\n",
              "  </svg>\n",
              "      </button>\n",
              "      \n",
              "  <style>\n",
              "    .colab-df-container {\n",
              "      display:flex;\n",
              "      flex-wrap:wrap;\n",
              "      gap: 12px;\n",
              "    }\n",
              "\n",
              "    .colab-df-convert {\n",
              "      background-color: #E8F0FE;\n",
              "      border: none;\n",
              "      border-radius: 50%;\n",
              "      cursor: pointer;\n",
              "      display: none;\n",
              "      fill: #1967D2;\n",
              "      height: 32px;\n",
              "      padding: 0 0 0 0;\n",
              "      width: 32px;\n",
              "    }\n",
              "\n",
              "    .colab-df-convert:hover {\n",
              "      background-color: #E2EBFA;\n",
              "      box-shadow: 0px 1px 2px rgba(60, 64, 67, 0.3), 0px 1px 3px 1px rgba(60, 64, 67, 0.15);\n",
              "      fill: #174EA6;\n",
              "    }\n",
              "\n",
              "    [theme=dark] .colab-df-convert {\n",
              "      background-color: #3B4455;\n",
              "      fill: #D2E3FC;\n",
              "    }\n",
              "\n",
              "    [theme=dark] .colab-df-convert:hover {\n",
              "      background-color: #434B5C;\n",
              "      box-shadow: 0px 1px 3px 1px rgba(0, 0, 0, 0.15);\n",
              "      filter: drop-shadow(0px 1px 2px rgba(0, 0, 0, 0.3));\n",
              "      fill: #FFFFFF;\n",
              "    }\n",
              "  </style>\n",
              "\n",
              "      <script>\n",
              "        const buttonEl =\n",
              "          document.querySelector('#df-75752cb8-2acf-453f-a9e1-c1aa18c7910e button.colab-df-convert');\n",
              "        buttonEl.style.display =\n",
              "          google.colab.kernel.accessAllowed ? 'block' : 'none';\n",
              "\n",
              "        async function convertToInteractive(key) {\n",
              "          const element = document.querySelector('#df-75752cb8-2acf-453f-a9e1-c1aa18c7910e');\n",
              "          const dataTable =\n",
              "            await google.colab.kernel.invokeFunction('convertToInteractive',\n",
              "                                                     [key], {});\n",
              "          if (!dataTable) return;\n",
              "\n",
              "          const docLinkHtml = 'Like what you see? Visit the ' +\n",
              "            '<a target=\"_blank\" href=https://colab.research.google.com/notebooks/data_table.ipynb>data table notebook</a>'\n",
              "            + ' to learn more about interactive tables.';\n",
              "          element.innerHTML = '';\n",
              "          dataTable['output_type'] = 'display_data';\n",
              "          await google.colab.output.renderOutput(dataTable, element);\n",
              "          const docLink = document.createElement('div');\n",
              "          docLink.innerHTML = docLinkHtml;\n",
              "          element.appendChild(docLink);\n",
              "        }\n",
              "      </script>\n",
              "    </div>\n",
              "  </div>\n",
              "  "
            ]
          },
          "metadata": {},
          "execution_count": 12
        }
      ],
      "source": [
        "train_df"
      ]
    },
    {
      "cell_type": "markdown",
      "source": [
        "Each passage is labeled by varying number of annotators so we assigned each passage the most frequent label. Some of the passages have more than one frequent label we ignore those passages."
      ],
      "metadata": {
        "id": "e2FoOkzNZfp_"
      }
    },
    {
      "cell_type": "code",
      "execution_count": null,
      "metadata": {
        "id": "B4SzAQchmlr6"
      },
      "outputs": [],
      "source": [
        "def re_annotation_data(data_text, data_labels, group):\n",
        "  reannotation_list = []\n",
        "  for i in range(len(data_labels)):\n",
        "    if (len(data_labels[i]) == 2 and data_labels[i][0] != data_labels[i][1]) or len(data_labels[i]) == 0:\n",
        "      reannotation_list.append((data_text[i], group, i))\n",
        "  return reannotation_list\n",
        "\n",
        "def create_csv(reanno_list, name):\n",
        "  reanno_text, reanno_group, reanno_ind = [sample[0] for sample in reannotation_list], [sample[1] for sample in reannotation_list], [sample[2] for sample in reannotation_list]\n",
        "  reannotation_df = pd.DataFrame({\"my_text\": reanno_text, \"group\": reanno_group, \"index\": reanno_ind})\n",
        "  reannotation_df.to_csv(name + \".csv\")\n",
        "\n",
        "\n",
        "\n",
        "reannotation_list = re_annotation_data(train_raw_text, train_raw_labels, \"train\") + re_annotation_data(eval_raw_text, eval_raw_labels, \"eval\") + re_annotation_data(test_raw_text, test_raw_labels, \"test\") \n",
        "\n",
        "first_reannotation_list = reannotation_list[:int(len(reannotation_list)/2)]\n",
        "second_reannotation_list = reannotation_list[int(len(reannotation_list)/2):]\n"
      ]
    },
    {
      "cell_type": "code",
      "execution_count": null,
      "metadata": {
        "id": "1ibjPUtQm0ig"
      },
      "outputs": [],
      "source": [
        "class_names = ['منفی','خنثی','مثبت']\n",
        "def unknown_labels(label_list):\n",
        "    if (len(label_list) == 2 and label_list[0] != label_list[1]) or (len(label_list) == 0):\n",
        "      return 0 # label can not be known as the two annotations are different\n",
        "    else:\n",
        "      return 1 # label can be understood as you can assign the class with majority labels to the class\n",
        "    \n",
        "def most_frequent(labels):\n",
        "    labels = list(labels)\n",
        "    return (max(set(labels), key = labels.count))\n",
        "\n",
        "def to_sentiment(rating):\n",
        "  if rating == 'منفی':\n",
        "    return 0\n",
        "  elif rating == 'خنثی' :\n",
        "    return 1\n",
        "  else: \n",
        "    return 2\n",
        "\n",
        "train_df[\"is_unknown\"] = train_df[\"raw_label\"].apply(unknown_labels)\n",
        "train_df = train_df[train_df[\"is_unknown\"] == 1]\n",
        "train_df['label'] = train_df[\"raw_label\"].apply(most_frequent)\n",
        "train_df = train_df.drop(columns = ['is_unknown'])\n",
        "train_df['label'] = train_df[\"label\"].apply(to_sentiment)\n",
        "\n",
        "eval_df[\"is_unknown\"] = eval_df[\"raw_label\"].apply(unknown_labels)\n",
        "eval_df = eval_df[eval_df[\"is_unknown\"] == 1]\n",
        "eval_df['label'] = eval_df[\"raw_label\"].apply(most_frequent)\n",
        "eval_df = eval_df.drop(columns = ['is_unknown'])\n",
        "eval_df['label'] = eval_df[\"label\"].apply(to_sentiment)\n",
        "\n",
        "test_df[\"is_unknown\"] = test_df[\"raw_label\"].apply(unknown_labels)\n",
        "test_df = test_df[test_df[\"is_unknown\"] == 1]\n",
        "test_df['label'] = test_df[\"raw_label\"].apply(most_frequent)\n",
        "test_df = test_df.drop(columns = ['is_unknown'])\n",
        "test_df['label'] = test_df[\"label\"].apply(to_sentiment)"
      ]
    },
    {
      "cell_type": "markdown",
      "metadata": {
        "id": "X4hTtL7S07_N"
      },
      "source": [
        "### Data Cleaning\n",
        "removing the backslash signs in the news and unnecessary new line characters."
      ]
    },
    {
      "cell_type": "code",
      "execution_count": null,
      "metadata": {
        "id": "da87u6KRm1Wt"
      },
      "outputs": [],
      "source": [
        "import re\n",
        "train_df[\"text\"] = train_df[\"raw\"].apply(lambda x: re.sub(r\"\\s_+\\s\", \". \", x))\n",
        "train_df[\"text\"] = train_df[\"text\"].apply(lambda x: x.replace('/ ', \"\"))\n",
        "train_df['len'] = train_df['text'].apply(lambda x: len(x))\n",
        "\n",
        "eval_df[\"text\"] = eval_df[\"raw\"].apply(lambda x: re.sub(r\"\\s_+\\s\", \". \", x))\n",
        "eval_df[\"text\"] = eval_df[\"text\"].apply(lambda x: x.replace('/ ', \"\"))\n",
        "eval_df['len'] = eval_df['text'].apply(lambda x: len(x))\n",
        "\n",
        "test_df[\"text\"] = test_df[\"raw\"].apply(lambda x: re.sub(r\"\\s_+\\s\", \". \", x))\n",
        "test_df[\"text\"] = test_df[\"text\"].apply(lambda x: x.replace('/ ', \"\"))\n",
        "test_df['len'] = test_df['text'].apply(lambda x: len(x))"
      ]
    },
    {
      "cell_type": "markdown",
      "source": [
        "Normalizing the data using Hazm Library. We also removed stop words as we believe the stopwords don't convey any sentimental values."
      ],
      "metadata": {
        "id": "DTIjbUDGa9RD"
      }
    },
    {
      "cell_type": "code",
      "execution_count": null,
      "metadata": {
        "id": "KmKLwcGORGAE"
      },
      "outputs": [],
      "source": [
        "normalizer = Normalizer()\n",
        "train_df['normalized'] = train_df['text'].apply(lambda x: normalizer.normalize(x))\n",
        "eval_df['normalized'] = eval_df['text'].apply(lambda x: normalizer.normalize(x))\n",
        "test_df['normalized'] = test_df['text'].apply(lambda x: normalizer.normalize(x))"
      ]
    },
    {
      "cell_type": "code",
      "execution_count": null,
      "metadata": {
        "colab": {
          "base_uri": "https://localhost:8080/"
        },
        "id": "ZgoRGZvOznqz",
        "outputId": "98dd21ee-efa1-4eb8-f1c7-4592c30b322b"
      },
      "outputs": [
        {
          "output_type": "stream",
          "name": "stdout",
          "text": [
            "--2022-07-29 11:43:41--  https://raw.githubusercontent.com/kharazi/persian-stopwords/master/nonverbal\n",
            "Resolving raw.githubusercontent.com (raw.githubusercontent.com)... 185.199.108.133, 185.199.109.133, 185.199.110.133, ...\n",
            "Connecting to raw.githubusercontent.com (raw.githubusercontent.com)|185.199.108.133|:443... connected.\n",
            "HTTP request sent, awaiting response... 200 OK\n",
            "Length: 1331 (1.3K) [text/plain]\n",
            "Saving to: ‘stopwords.txt’\n",
            "\n",
            "stopwords.txt       100%[===================>]   1.30K  --.-KB/s    in 0s      \n",
            "\n",
            "2022-07-29 11:43:41 (61.0 MB/s) - ‘stopwords.txt’ saved [1331/1331]\n",
            "\n"
          ]
        }
      ],
      "source": [
        "!wget -cO \"stopwords.txt\" \"https://raw.githubusercontent.com/kharazi/persian-stopwords/master/nonverbal\" "
      ]
    },
    {
      "cell_type": "code",
      "execution_count": null,
      "metadata": {
        "id": "hCWdODWaCnDY"
      },
      "outputs": [],
      "source": [
        "from hazm import word_tokenize\n",
        "f = open(\"/content/stopwords.txt\", \"r\")\n",
        "stop_words = f.read().splitlines()\n",
        "embedding = {}\n",
        "\n",
        "train_df[\"tokens\"] = train_df[\"normalized\"].apply(lambda x:word_tokenize(x))\n",
        "train_df[\"tokens\"] = train_df[\"tokens\"].apply(lambda tokens:[token for token in tokens if not(token in stop_words)])\n",
        "train_df[\"preprocessed\"] = train_df[\"tokens\"].apply(lambda tokens: \" \".join(tokens))\n",
        "train_df[\"seq len\"] = train_df[\"tokens\"].apply(lambda tokens: len(tokens))\n",
        "\n",
        "eval_df[\"tokens\"] = eval_df[\"normalized\"].apply(lambda x: word_tokenize(x))\n",
        "eval_df[\"tokens\"] = eval_df[\"tokens\"].apply(lambda tokens:[token for token in tokens if not(token in stop_words)])\n",
        "eval_df[\"preprocessed\"] = eval_df[\"tokens\"].apply(lambda tokens: \" \".join(tokens))\n",
        "\n",
        "test_df[\"tokens\"] = test_df[\"normalized\"].apply(lambda x: word_tokenize(x))\n",
        "test_df[\"tokens\"] = test_df[\"tokens\"].apply(lambda tokens:[token for token in tokens if not(token in stop_words)])\n",
        "test_df[\"preprocessed\"] = test_df[\"tokens\"].apply(lambda tokens: \" \".join(tokens))\n",
        "\n",
        "\n"
      ]
    },
    {
      "cell_type": "code",
      "execution_count": null,
      "metadata": {
        "colab": {
          "base_uri": "https://localhost:8080/",
          "height": 595
        },
        "id": "DkPcJt-DceXM",
        "outputId": "5aaf3ea1-5c36-499c-f4be-63d6e6932739"
      },
      "outputs": [
        {
          "output_type": "stream",
          "name": "stderr",
          "text": [
            "/usr/local/lib/python3.7/dist-packages/seaborn/distributions.py:2619: FutureWarning: `distplot` is a deprecated function and will be removed in a future version. Please adapt your code to use either `displot` (a figure-level function with similar flexibility) or `histplot` (an axes-level function for histograms).\n",
            "  warnings.warn(msg, FutureWarning)\n"
          ]
        },
        {
          "output_type": "stream",
          "name": "stdout",
          "text": [
            "max seq len:  121\n"
          ]
        },
        {
          "output_type": "display_data",
          "data": {
            "text/plain": [
              "<Figure size 864x576 with 1 Axes>"
            ],
            "image/png": "[encoded data removed]"
          },
          "metadata": {
            "image/png": {
              "width": 757,
              "height": 506
            }
          }
        }
      ],
      "source": [
        "sns.distplot(train_df['seq len'], hist=True, kde=True, color='b', label='doc len')\n",
        "max_seq_len = np.round(train_df['seq len'].mean() + train_df['seq len'].std()).astype(int)\n",
        "print(\"max seq len: \", max_seq_len)\n",
        "plt.axvline(x=max_seq_len, color='k', linestyle='--', label='max len')\n",
        "plt.title('comment length'); plt.legend()\n",
        "plt.show()"
      ]
    },
    {
      "cell_type": "code",
      "execution_count": null,
      "metadata": {
        "colab": {
          "base_uri": "https://localhost:8080/"
        },
        "id": "Vf6zcGiHqPqC",
        "outputId": "736604ce-a5ac-4b88-e78b-eead0132da34"
      },
      "outputs": [
        {
          "output_type": "stream",
          "name": "stderr",
          "text": [
            "/usr/local/lib/python3.7/dist-packages/keras_preprocessing/text.py:180: UserWarning: The `nb_words` argument in `Tokenizer` has been renamed `num_words`.\n",
            "  warnings.warn('The `nb_words` argument in `Tokenizer` '\n"
          ]
        }
      ],
      "source": [
        "tokenizer = Tokenizer(nb_words=20000, filters='!\"#$%&()*+,-./:;<=>?@[\\\\]^_`{|}~\\t\\n', split=' ')\n",
        "tokenizer.fit_on_texts(train_df['normalized'].values)"
      ]
    },
    {
      "cell_type": "markdown",
      "source": [
        "## Training Vanilla LSTM model"
      ],
      "metadata": {
        "id": "hPf6uIH1cSg9"
      }
    },
    {
      "cell_type": "markdown",
      "source": [
        "After converting the sentences into sequences we added each padding to them so that every sequence has a padding of 300."
      ],
      "metadata": {
        "id": "7XnGoD8NcZAz"
      }
    },
    {
      "cell_type": "code",
      "execution_count": null,
      "metadata": {
        "id": "Qlo8pgWbmBHt"
      },
      "outputs": [],
      "source": [
        "X_train = tokenizer.texts_to_sequences(train_df['normalized'].values)\n",
        "X_train = pad_sequences(X_train, maxlen= 300)\n",
        "\n",
        "X_eval = tokenizer.texts_to_sequences(eval_df['normalized'].values)\n",
        "X_eval = pad_sequences(X_eval, maxlen = 300)\n",
        "\n",
        "X_test = tokenizer.texts_to_sequences(test_df['normalized'].values)\n",
        "X_test = pad_sequences(X_test, maxlen=300)"
      ]
    },
    {
      "cell_type": "markdown",
      "source": [
        "### Model definition"
      ],
      "metadata": {
        "id": "GsyR9iUfcsfc"
      }
    },
    {
      "cell_type": "code",
      "execution_count": null,
      "metadata": {
        "colab": {
          "base_uri": "https://localhost:8080/"
        },
        "id": "bCZ7x2j0sO2x",
        "outputId": "27cd5848-3ce6-4887-ba1a-8ae24fff9065"
      },
      "outputs": [
        {
          "output_type": "stream",
          "name": "stdout",
          "text": [
            "Model: \"sequential_6\"\n",
            "_________________________________________________________________\n",
            " Layer (type)                Output Shape              Param #   \n",
            "=================================================================\n",
            " embedding_6 (Embedding)     (None, 300, 128)          2560000   \n",
            "                                                                 \n",
            " dropout_7 (Dropout)         (None, 300, 128)          0         \n",
            "                                                                 \n",
            " lstm_6 (LSTM)               (None, 196)               254800    \n",
            "                                                                 \n",
            " dropout_8 (Dropout)         (None, 196)               0         \n",
            "                                                                 \n",
            " dense_11 (Dense)            (None, 3)                 591       \n",
            "                                                                 \n",
            "=================================================================\n",
            "Total params: 2,815,391\n",
            "Trainable params: 2,815,391\n",
            "Non-trainable params: 0\n",
            "_________________________________________________________________\n",
            "None\n"
          ]
        }
      ],
      "source": [
        "embed_dim = 128\n",
        "lstm_out = 196\n",
        "batch_size = 32\n",
        "\n",
        "model = Sequential()\n",
        "model.add(Embedding(20000, embed_dim,input_length = X_train.shape[1]))\n",
        "model.add(Dropout(0.5))\n",
        "model.add(LSTM(lstm_out))\n",
        "model.add(Dropout(0.5))\n",
        "model.add(Dense(3,activation='softmax'))\n",
        "model.compile(loss = 'categorical_crossentropy', optimizer='adam',metrics = ['accuracy'])\n",
        "print(model.summary())"
      ]
    },
    {
      "cell_type": "markdown",
      "source": [
        "One hot encoding of labels"
      ],
      "metadata": {
        "id": "OiNAjKI8c0jB"
      }
    },
    {
      "cell_type": "code",
      "execution_count": null,
      "metadata": {
        "id": "JuZR2TkQ6tPn"
      },
      "outputs": [],
      "source": [
        "Y_train = pd.get_dummies(train_df['label']).values\n",
        "Y_eval = pd.get_dummies(eval_df['label']).values\n",
        "Y_test = pd.get_dummies(test_df['label']).values"
      ]
    },
    {
      "cell_type": "code",
      "execution_count": null,
      "metadata": {
        "id": "1MHRWG51mzNI",
        "colab": {
          "base_uri": "https://localhost:8080/"
        },
        "outputId": "dc5315b1-e41f-4ad3-c307-63cdce51c4c9"
      },
      "outputs": [
        {
          "output_type": "stream",
          "name": "stdout",
          "text": [
            "Epoch 1/30\n",
            "44/44 - 4s - loss: 1.0390 - accuracy: 0.5057 - val_loss: 1.0518 - val_accuracy: 0.4444 - 4s/epoch - 89ms/step\n",
            "Epoch 2/30\n",
            "44/44 - 1s - loss: 0.9892 - accuracy: 0.5250 - val_loss: 1.0168 - val_accuracy: 0.4861 - 884ms/epoch - 20ms/step\n",
            "Epoch 3/30\n",
            "44/44 - 1s - loss: 0.6902 - accuracy: 0.7471 - val_loss: 0.8806 - val_accuracy: 0.6111 - 872ms/epoch - 20ms/step\n",
            "Epoch 4/30\n",
            "44/44 - 1s - loss: 0.3097 - accuracy: 0.9043 - val_loss: 1.0167 - val_accuracy: 0.5417 - 860ms/epoch - 20ms/step\n",
            "Epoch 5/30\n",
            "44/44 - 1s - loss: 0.0946 - accuracy: 0.9736 - val_loss: 1.3330 - val_accuracy: 0.5417 - 873ms/epoch - 20ms/step\n",
            "Epoch 6/30\n",
            "44/44 - 1s - loss: 0.0345 - accuracy: 0.9921 - val_loss: 1.5704 - val_accuracy: 0.5139 - 882ms/epoch - 20ms/step\n",
            "Epoch 7/30\n",
            "44/44 - 1s - loss: 0.0365 - accuracy: 0.9921 - val_loss: 1.2550 - val_accuracy: 0.5278 - 869ms/epoch - 20ms/step\n",
            "Epoch 8/30\n",
            "44/44 - 1s - loss: 0.0255 - accuracy: 0.9950 - val_loss: 1.5147 - val_accuracy: 0.5139 - 887ms/epoch - 20ms/step\n",
            "Epoch 9/30\n",
            "44/44 - 1s - loss: 0.0053 - accuracy: 0.9993 - val_loss: 1.5858 - val_accuracy: 0.5694 - 885ms/epoch - 20ms/step\n",
            "Epoch 10/30\n",
            "44/44 - 1s - loss: 0.0063 - accuracy: 0.9986 - val_loss: 1.8183 - val_accuracy: 0.5556 - 875ms/epoch - 20ms/step\n",
            "Epoch 11/30\n",
            "44/44 - 1s - loss: 0.0109 - accuracy: 0.9971 - val_loss: 1.7172 - val_accuracy: 0.4306 - 894ms/epoch - 20ms/step\n",
            "Epoch 12/30\n",
            "44/44 - 1s - loss: 0.0082 - accuracy: 0.9993 - val_loss: 1.5689 - val_accuracy: 0.5139 - 926ms/epoch - 21ms/step\n",
            "Epoch 13/30\n",
            "44/44 - 2s - loss: 0.0074 - accuracy: 0.9986 - val_loss: 1.7456 - val_accuracy: 0.5833 - 2s/epoch - 38ms/step\n",
            "Epoch 14/30\n",
            "44/44 - 1s - loss: 0.0179 - accuracy: 0.9971 - val_loss: 1.5675 - val_accuracy: 0.5972 - 1s/epoch - 32ms/step\n",
            "Epoch 15/30\n",
            "44/44 - 1s - loss: 0.0033 - accuracy: 0.9993 - val_loss: 1.8090 - val_accuracy: 0.5278 - 1s/epoch - 33ms/step\n",
            "Epoch 16/30\n",
            "44/44 - 1s - loss: 0.0012 - accuracy: 1.0000 - val_loss: 1.9195 - val_accuracy: 0.5556 - 1s/epoch - 34ms/step\n",
            "Epoch 17/30\n",
            "44/44 - 1s - loss: 0.0018 - accuracy: 0.9993 - val_loss: 1.9626 - val_accuracy: 0.5694 - 1s/epoch - 31ms/step\n",
            "Epoch 18/30\n",
            "44/44 - 2s - loss: 0.0073 - accuracy: 0.9986 - val_loss: 1.8105 - val_accuracy: 0.5139 - 2s/epoch - 40ms/step\n",
            "Epoch 19/30\n",
            "44/44 - 1s - loss: 0.0021 - accuracy: 0.9993 - val_loss: 1.9981 - val_accuracy: 0.5556 - 903ms/epoch - 21ms/step\n",
            "Epoch 20/30\n",
            "44/44 - 1s - loss: 0.0011 - accuracy: 1.0000 - val_loss: 1.9483 - val_accuracy: 0.5417 - 910ms/epoch - 21ms/step\n",
            "Epoch 21/30\n",
            "44/44 - 1s - loss: 0.0052 - accuracy: 0.9979 - val_loss: 1.4826 - val_accuracy: 0.5556 - 893ms/epoch - 20ms/step\n",
            "Epoch 22/30\n",
            "44/44 - 1s - loss: 0.0045 - accuracy: 0.9993 - val_loss: 1.7311 - val_accuracy: 0.5417 - 919ms/epoch - 21ms/step\n",
            "Epoch 23/30\n",
            "44/44 - 1s - loss: 0.0076 - accuracy: 0.9979 - val_loss: 1.3415 - val_accuracy: 0.5833 - 916ms/epoch - 21ms/step\n",
            "Epoch 24/30\n",
            "44/44 - 1s - loss: 0.0100 - accuracy: 0.9979 - val_loss: 1.5410 - val_accuracy: 0.5972 - 916ms/epoch - 21ms/step\n",
            "Epoch 25/30\n",
            "44/44 - 1s - loss: 0.0013 - accuracy: 1.0000 - val_loss: 1.6365 - val_accuracy: 0.5556 - 903ms/epoch - 21ms/step\n",
            "Epoch 26/30\n",
            "44/44 - 1s - loss: 0.0016 - accuracy: 0.9993 - val_loss: 2.0251 - val_accuracy: 0.5833 - 902ms/epoch - 21ms/step\n",
            "Epoch 27/30\n",
            "44/44 - 1s - loss: 0.0020 - accuracy: 1.0000 - val_loss: 2.4424 - val_accuracy: 0.5417 - 898ms/epoch - 20ms/step\n",
            "Epoch 28/30\n",
            "44/44 - 1s - loss: 0.0042 - accuracy: 0.9993 - val_loss: 1.9629 - val_accuracy: 0.5556 - 901ms/epoch - 20ms/step\n",
            "Epoch 29/30\n",
            "44/44 - 1s - loss: 0.0126 - accuracy: 0.9971 - val_loss: 1.4332 - val_accuracy: 0.5417 - 891ms/epoch - 20ms/step\n",
            "Epoch 30/30\n",
            "44/44 - 1s - loss: 0.0203 - accuracy: 0.9957 - val_loss: 1.4727 - val_accuracy: 0.4861 - 912ms/epoch - 21ms/step\n"
          ]
        },
        {
          "output_type": "execute_result",
          "data": {
            "text/plain": [
              "<keras.callbacks.History at 0x7fdb355ca6d0>"
            ]
          },
          "metadata": {},
          "execution_count": 96
        }
      ],
      "source": [
        "model.fit(X_train, Y_train, batch_size =batch_size, epochs = 30,  verbose = 2, validation_data = (X_eval, Y_eval))"
      ]
    },
    {
      "cell_type": "markdown",
      "source": [
        "The vanilla LSTM model does not achieve the Desired Accuracy on validation set so we try using fast-text encoding instead of one-hot encoding for our model."
      ],
      "metadata": {
        "id": "9VR1s_madPxu"
      }
    },
    {
      "cell_type": "markdown",
      "source": [
        "## LSTM with Fasttext as its input Embedding"
      ],
      "metadata": {
        "id": "sFq8BNdVdkrD"
      }
    },
    {
      "cell_type": "markdown",
      "source": [
        "Downloading Fastext library and Weights"
      ],
      "metadata": {
        "id": "RCDmZTZcd0az"
      }
    },
    {
      "cell_type": "code",
      "execution_count": null,
      "metadata": {
        "id": "EAB4hHAgQquG"
      },
      "outputs": [],
      "source": [
        "!git clone https://github.com/facebookresearch/fastText.git\n",
        "%cd fastText\n",
        "!pip install .\n",
        "%cd .."
      ]
    },
    {
      "cell_type": "code",
      "execution_count": null,
      "metadata": {
        "id": "rS0cL4o-CfcY"
      },
      "outputs": [],
      "source": [
        "import fasttext\n",
        "import fasttext.util"
      ]
    },
    {
      "cell_type": "markdown",
      "source": [
        "in case you haven't downloaded fasttext please download and save it on your drive:"
      ],
      "metadata": {
        "id": "8kVFHaWUd-N1"
      }
    },
    {
      "cell_type": "code",
      "execution_count": null,
      "metadata": {
        "id": "ZXhZ-aRACgcG",
        "colab": {
          "base_uri": "https://localhost:8080/",
          "height": 35
        },
        "outputId": "8a3b9f9b-bb27-42dc-f2cb-a479f1a50b26"
      },
      "outputs": [
        {
          "output_type": "execute_result",
          "data": {
            "text/plain": [
              "'cc.fa.300.bin'"
            ],
            "application/vnd.google.colaboratory.intrinsic+json": {
              "type": "string"
            }
          },
          "metadata": {},
          "execution_count": 98
        }
      ],
      "source": [
        "fasttext.util.download_model('fa', if_exists='ignore')"
      ]
    },
    {
      "cell_type": "code",
      "execution_count": null,
      "metadata": {
        "id": "4PYnx7GRCrbD",
        "colab": {
          "base_uri": "https://localhost:8080/"
        },
        "outputId": "7f6fb43f-651d-484c-a7ea-695bfe530a4f"
      },
      "outputs": [
        {
          "output_type": "stream",
          "name": "stdout",
          "text": [
            "cp: cannot create regular file '/content/drive/MyDrive/Arshad/NLP/Fasttext persian': No such file or directory\n"
          ]
        }
      ],
      "source": [
        "!cp \"/content/cc.fa.300.bin\" \"/content/drive/MyDrive/Arshad/NLP/Fasttext persian\""
      ]
    },
    {
      "cell_type": "markdown",
      "source": [
        "in case you have downloaded the fasttext weights before please load it:"
      ],
      "metadata": {
        "id": "XrNDNtPmePrR"
      }
    },
    {
      "cell_type": "code",
      "execution_count": null,
      "metadata": {
        "id": "7Y_W47gbRXHW",
        "colab": {
          "base_uri": "https://localhost:8080/"
        },
        "outputId": "67547be8-64de-43f4-dfb3-b2aff6bc9f29"
      },
      "outputs": [
        {
          "output_type": "stream",
          "name": "stdout",
          "text": [
            "cp: cannot stat '/content/drive/MyDrive/Arshad/NLP/Fasttext persian/cc.fa.300.bin': No such file or directory\n"
          ]
        }
      ],
      "source": [
        "!cp \"/content/drive/MyDrive/Arshad/NLP/Fasttext persian/cc.fa.300.bin\" \"/content/\" "
      ]
    },
    {
      "cell_type": "code",
      "execution_count": null,
      "metadata": {
        "id": "jNzxju3mCizi"
      },
      "outputs": [],
      "source": [
        "ft = fasttext.load_model('cc.fa.300.bin')"
      ]
    },
    {
      "cell_type": "markdown",
      "source": [
        "Using Fasttext "
      ],
      "metadata": {
        "id": "9InDeleNgbiY"
      }
    },
    {
      "cell_type": "code",
      "execution_count": null,
      "metadata": {
        "colab": {
          "base_uri": "https://localhost:8080/"
        },
        "id": "kfFRu-4aLhMp",
        "outputId": "4357da19-595f-46e0-8aea-beb3787e78c1"
      },
      "outputs": [
        {
          "output_type": "stream",
          "name": "stderr",
          "text": [
            "/usr/local/lib/python3.7/dist-packages/keras_preprocessing/text.py:180: UserWarning: The `nb_words` argument in `Tokenizer` has been renamed `num_words`.\n",
            "  warnings.warn('The `nb_words` argument in `Tokenizer` '\n"
          ]
        }
      ],
      "source": [
        "tokenizer = Tokenizer(nb_words=20000, filters='!\"#$%&()*+,-./:;<=>?@[\\\\]^_`{|}~\\t\\n', split=' ')\n",
        "tokenizer.fit_on_texts(train_df['preprocessed'].tolist() + eval_df['preprocessed'].tolist() + test_df['preprocessed'].tolist())\n",
        "word_seq_train = tokenizer.texts_to_sequences(train_df['preprocessed'].values )\n",
        "word_seq_eval = tokenizer.texts_to_sequences(eval_df['preprocessed'].values)\n",
        "word_seq_test = tokenizer.texts_to_sequences(test_df['preprocessed'].values)\n",
        "word_index = tokenizer.word_index\n",
        "\n",
        "word_seq_train = sequence.pad_sequences(word_seq_train, maxlen=max_seq_len)\n",
        "word_seq_eval = sequence.pad_sequences(word_seq_eval, maxlen=max_seq_len)\n",
        "word_seq_test = sequence.pad_sequences(word_seq_test, maxlen=max_seq_len)"
      ]
    },
    {
      "cell_type": "code",
      "execution_count": null,
      "metadata": {
        "id": "cfjEpDZ0ShLm"
      },
      "outputs": [],
      "source": [
        "#training params\n",
        "batch_size = 256 \n",
        "num_epochs = 40\n",
        "\n",
        "#model parameters\n",
        "num_filters = 64 \n",
        "embed_dim = 300 \n",
        "weight_decay = 1e-4"
      ]
    },
    {
      "cell_type": "markdown",
      "source": [
        "We derived An embedding matrix from fasttext and used it as weights for our embedding layer."
      ],
      "metadata": {
        "id": "7Ojd1QcSjKIE"
      }
    },
    {
      "cell_type": "code",
      "execution_count": null,
      "metadata": {
        "colab": {
          "base_uri": "https://localhost:8080/"
        },
        "id": "s-LZ8ILcI420",
        "outputId": "76d9fc4b-a634-4f7e-f5f7-69294836853c"
      },
      "outputs": [
        {
          "output_type": "stream",
          "name": "stdout",
          "text": [
            "preparing embedding matrix...\n",
            "number of null word embeddings: 28\n"
          ]
        }
      ],
      "source": [
        "#embedding matrix\n",
        "MAX_NB_WORDS = 20000\n",
        "print('preparing embedding matrix...')\n",
        "\n",
        "words_not_found = []\n",
        "nb_words = min(MAX_NB_WORDS, len(word_index)+1)\n",
        "embedding_matrix = np.zeros((nb_words, embed_dim))\n",
        "\n",
        "for word, i in word_index.items():\n",
        "    if i >= nb_words:\n",
        "        continue\n",
        "    embedding_vector = ft[word]\n",
        "    if (embedding_vector is not None) and len(embedding_vector) > 0:\n",
        "        # words not found in embedding index will be all-zeros.\n",
        "        embedding_matrix[i] = embedding_vector\n",
        "    else:\n",
        "        words_not_found.append(word)\n",
        "print('number of null word embeddings: %d' % np.sum(np.sum(embedding_matrix, axis=1) == 0))"
      ]
    },
    {
      "cell_type": "markdown",
      "source": [
        "### model definition"
      ],
      "metadata": {
        "id": "w0EEeqo4j23v"
      }
    },
    {
      "cell_type": "code",
      "execution_count": null,
      "metadata": {
        "id": "zhZVG30o-BDo"
      },
      "outputs": [],
      "source": [
        "from keras.layers import BatchNormalization\n",
        "import tensorflow as tf\n",
        "\n",
        "def create_model(dropout_rate=0.4, lstm_units=32):\n",
        "  model = tf.keras.Sequential()\n",
        "  model.add(Embedding(nb_words,embed_dim,input_length=max_seq_len, weights=[embedding_matrix],trainable=False))\n",
        "  model.add(Bidirectional(LSTM(lstm_units)))\n",
        "  model.add(Dense(32,activation='relu'))\n",
        "  model.add(Dropout(dropout_rate))\n",
        "  model.add(Dense(3,activation='softmax'))\n",
        "  model.compile(loss='categorical_crossentropy', optimizer='adam', metrics=['accuracy'])\n",
        "  return model"
      ]
    },
    {
      "cell_type": "markdown",
      "source": [
        "Finding the best parameters for our model: Dropout rate, number of lstm units and number of epochs"
      ],
      "metadata": {
        "id": "1tgVj62HkEpv"
      }
    },
    {
      "cell_type": "code",
      "execution_count": null,
      "metadata": {
        "colab": {
          "base_uri": "https://localhost:8080/"
        },
        "id": "gu55VKhAdtgA",
        "outputId": "4325ac1d-ca07-4f89-ada0-e6b751327476"
      },
      "outputs": [
        {
          "output_type": "stream",
          "name": "stderr",
          "text": [
            "/usr/local/lib/python3.7/dist-packages/ipykernel_launcher.py:2: DeprecationWarning: KerasClassifier is deprecated, use Sci-Keras (https://github.com/adriangb/scikeras) instead. See https://www.adriangb.com/scikeras/stable/migration.html for help migrating.\n",
            "  \n"
          ]
        }
      ],
      "source": [
        "\n",
        "model = KerasClassifier(build_fn=create_model, epochs=40, verbose=0)\n",
        "csv_logger = CSVLogger('training.log')\n",
        "filepath = \"weights-improvement-{dropout_rate:02d}-{lstm_units}.hdf5\"\n",
        "checkpoint = ModelCheckpoint(filepath, monitor='val_loss', verbose=0, save_best_only=True, mode='max')\n",
        "call_back = [csv_logger, checkpoint]\n",
        "lstm_units = [32, 48, 64]\n",
        "epochs = [20, 30, 40]\n",
        "dropout_rate = [0.3, 0.4, 0.5]\n",
        "param_grid = dict(dropout_rate=dropout_rate, lstm_units=lstm_units, epochs = epochs)\n",
        "my_test_fold = []\n",
        "for i in range(len(X_train)):\n",
        "    my_test_fold.append(-1)\n",
        "\n",
        "for i in range(len(X_eval)):\n",
        "    my_test_fold.append(0)\n",
        "ps = PredefinedSplit(my_test_fold)\n",
        "grid = GridSearchCV(estimator=model, param_grid=param_grid, n_jobs=-1, cv=ps)\n",
        "grid_result = grid.fit(np.concatenate((word_seq_train, word_seq_eval), axis=0) , np.concatenate((Y_train, Y_eval), axis=0))"
      ]
    },
    {
      "cell_type": "code",
      "source": [
        "grid_result.best_params_['epochs']"
      ],
      "metadata": {
        "colab": {
          "base_uri": "https://localhost:8080/"
        },
        "id": "GJCB9arG84kz",
        "outputId": "22a4facb-cebc-4be7-9894-ce99a6b41df3"
      },
      "execution_count": null,
      "outputs": [
        {
          "output_type": "execute_result",
          "data": {
            "text/plain": [
              "30"
            ]
          },
          "metadata": {},
          "execution_count": 54
        }
      ]
    },
    {
      "cell_type": "code",
      "source": [
        "grid_result.best_score_"
      ],
      "metadata": {
        "colab": {
          "base_uri": "https://localhost:8080/"
        },
        "id": "FLvepRLO9GmX",
        "outputId": "7549fd78-f9b2-49d2-d88d-bf70517bd9a7"
      },
      "execution_count": null,
      "outputs": [
        {
          "output_type": "execute_result",
          "data": {
            "text/plain": [
              "0.625"
            ]
          },
          "metadata": {},
          "execution_count": 45
        }
      ]
    },
    {
      "cell_type": "markdown",
      "source": [
        "Training the model with train and validation set and getting the final accuracy and performance!"
      ],
      "metadata": {
        "id": "PwMiIhzckQJO"
      }
    },
    {
      "cell_type": "code",
      "source": [
        "model = create_model(grid_result.best_params_['dropout_rate'], grid_result.best_params_['lstm_units'])\n",
        "model.fit(np.concatenate((word_seq_train, word_seq_eval), axis=0) ,np.concatenate((Y_train, Y_eval), axis=0), batch_size =batch_size,epochs = grid_result.best_params_['epochs'],  verbose = 2, validation_data = (word_seq_test, Y_test))\n",
        "                                                                   "
      ],
      "metadata": {
        "colab": {
          "base_uri": "https://localhost:8080/"
        },
        "id": "aHdpIjLr9SY8",
        "outputId": "daf20975-4340-4b81-96e7-7e7adb875f6c"
      },
      "execution_count": null,
      "outputs": [
        {
          "output_type": "stream",
          "name": "stdout",
          "text": [
            "Epoch 1/30\n",
            "6/6 - 6s - loss: 1.0947 - accuracy: 0.3730 - val_loss: 1.0730 - val_accuracy: 0.4583 - 6s/epoch - 948ms/step\n",
            "Epoch 2/30\n",
            "6/6 - 0s - loss: 1.0645 - accuracy: 0.4959 - val_loss: 1.0455 - val_accuracy: 0.4583 - 157ms/epoch - 26ms/step\n",
            "Epoch 3/30\n",
            "6/6 - 0s - loss: 1.0415 - accuracy: 0.5020 - val_loss: 1.0302 - val_accuracy: 0.4583 - 129ms/epoch - 22ms/step\n",
            "Epoch 4/30\n",
            "6/6 - 0s - loss: 1.0288 - accuracy: 0.5020 - val_loss: 1.0288 - val_accuracy: 0.4583 - 117ms/epoch - 19ms/step\n",
            "Epoch 5/30\n",
            "6/6 - 0s - loss: 1.0218 - accuracy: 0.5020 - val_loss: 1.0232 - val_accuracy: 0.4583 - 117ms/epoch - 20ms/step\n",
            "Epoch 6/30\n",
            "6/6 - 0s - loss: 1.0169 - accuracy: 0.5020 - val_loss: 1.0169 - val_accuracy: 0.4583 - 110ms/epoch - 18ms/step\n",
            "Epoch 7/30\n",
            "6/6 - 0s - loss: 1.0036 - accuracy: 0.5027 - val_loss: 1.0010 - val_accuracy: 0.4583 - 118ms/epoch - 20ms/step\n",
            "Epoch 8/30\n",
            "6/6 - 0s - loss: 0.9805 - accuracy: 0.5061 - val_loss: 0.9709 - val_accuracy: 0.4583 - 118ms/epoch - 20ms/step\n",
            "Epoch 9/30\n",
            "6/6 - 0s - loss: 0.9707 - accuracy: 0.5401 - val_loss: 0.9466 - val_accuracy: 0.4861 - 113ms/epoch - 19ms/step\n",
            "Epoch 10/30\n",
            "6/6 - 0s - loss: 0.9556 - accuracy: 0.5462 - val_loss: 0.9459 - val_accuracy: 0.5417 - 112ms/epoch - 19ms/step\n",
            "Epoch 11/30\n",
            "6/6 - 0s - loss: 0.9354 - accuracy: 0.5774 - val_loss: 0.9365 - val_accuracy: 0.5139 - 111ms/epoch - 19ms/step\n",
            "Epoch 12/30\n",
            "6/6 - 0s - loss: 0.9058 - accuracy: 0.5836 - val_loss: 0.9209 - val_accuracy: 0.5278 - 108ms/epoch - 18ms/step\n",
            "Epoch 13/30\n",
            "6/6 - 0s - loss: 0.8979 - accuracy: 0.5951 - val_loss: 0.9011 - val_accuracy: 0.5833 - 110ms/epoch - 18ms/step\n",
            "Epoch 14/30\n",
            "6/6 - 0s - loss: 0.8800 - accuracy: 0.6175 - val_loss: 0.9113 - val_accuracy: 0.6111 - 119ms/epoch - 20ms/step\n",
            "Epoch 15/30\n",
            "6/6 - 0s - loss: 0.8536 - accuracy: 0.6148 - val_loss: 0.8859 - val_accuracy: 0.6111 - 111ms/epoch - 19ms/step\n",
            "Epoch 16/30\n",
            "6/6 - 0s - loss: 0.8395 - accuracy: 0.6311 - val_loss: 0.8769 - val_accuracy: 0.6389 - 116ms/epoch - 19ms/step\n",
            "Epoch 17/30\n",
            "6/6 - 0s - loss: 0.8197 - accuracy: 0.6318 - val_loss: 0.8750 - val_accuracy: 0.5833 - 113ms/epoch - 19ms/step\n",
            "Epoch 18/30\n",
            "6/6 - 0s - loss: 0.8240 - accuracy: 0.6325 - val_loss: 0.9156 - val_accuracy: 0.5972 - 108ms/epoch - 18ms/step\n",
            "Epoch 19/30\n",
            "6/6 - 0s - loss: 0.7970 - accuracy: 0.6508 - val_loss: 0.8915 - val_accuracy: 0.5694 - 107ms/epoch - 18ms/step\n",
            "Epoch 20/30\n",
            "6/6 - 0s - loss: 0.7820 - accuracy: 0.6637 - val_loss: 0.8852 - val_accuracy: 0.6111 - 111ms/epoch - 19ms/step\n",
            "Epoch 21/30\n",
            "6/6 - 0s - loss: 0.7740 - accuracy: 0.6692 - val_loss: 0.8477 - val_accuracy: 0.6389 - 116ms/epoch - 19ms/step\n",
            "Epoch 22/30\n",
            "6/6 - 0s - loss: 0.7411 - accuracy: 0.6814 - val_loss: 0.8544 - val_accuracy: 0.6250 - 111ms/epoch - 19ms/step\n",
            "Epoch 23/30\n",
            "6/6 - 0s - loss: 0.7295 - accuracy: 0.6807 - val_loss: 0.8652 - val_accuracy: 0.5833 - 120ms/epoch - 20ms/step\n",
            "Epoch 24/30\n",
            "6/6 - 0s - loss: 0.7321 - accuracy: 0.6970 - val_loss: 0.8554 - val_accuracy: 0.5694 - 115ms/epoch - 19ms/step\n",
            "Epoch 25/30\n",
            "6/6 - 0s - loss: 0.7083 - accuracy: 0.7038 - val_loss: 0.8683 - val_accuracy: 0.6111 - 107ms/epoch - 18ms/step\n",
            "Epoch 26/30\n",
            "6/6 - 0s - loss: 0.6934 - accuracy: 0.7031 - val_loss: 0.8594 - val_accuracy: 0.5972 - 110ms/epoch - 18ms/step\n",
            "Epoch 27/30\n",
            "6/6 - 0s - loss: 0.6764 - accuracy: 0.7120 - val_loss: 0.8959 - val_accuracy: 0.5833 - 108ms/epoch - 18ms/step\n",
            "Epoch 28/30\n",
            "6/6 - 0s - loss: 0.6566 - accuracy: 0.7262 - val_loss: 0.9436 - val_accuracy: 0.5833 - 113ms/epoch - 19ms/step\n",
            "Epoch 29/30\n",
            "6/6 - 0s - loss: 0.6696 - accuracy: 0.7167 - val_loss: 0.9257 - val_accuracy: 0.5694 - 106ms/epoch - 18ms/step\n",
            "Epoch 30/30\n",
            "6/6 - 0s - loss: 0.6403 - accuracy: 0.7242 - val_loss: 0.8892 - val_accuracy: 0.6111 - 106ms/epoch - 18ms/step\n"
          ]
        },
        {
          "output_type": "execute_result",
          "data": {
            "text/plain": [
              "<keras.callbacks.History at 0x7fdb35538610>"
            ]
          },
          "metadata": {},
          "execution_count": 58
        }
      ]
    },
    {
      "cell_type": "code",
      "source": [
        "y_probs = model.predict(word_seq_test)\n",
        "y_pred = np.argmax(y_probs,axis=1)\n",
        "y_test = np.argmax(Y_test, axis=1)"
      ],
      "metadata": {
        "id": "yOkyQ0PWR2Of"
      },
      "execution_count": null,
      "outputs": []
    },
    {
      "cell_type": "code",
      "source": [
        "print(classification_report(y_test, y_pred, target_names=class_names))"
      ],
      "metadata": {
        "colab": {
          "base_uri": "https://localhost:8080/"
        },
        "id": "NjP6PPX6UOTR",
        "outputId": "77ff8235-4dbd-4dfc-bf62-4dd2571e787a"
      },
      "execution_count": null,
      "outputs": [
        {
          "output_type": "stream",
          "name": "stdout",
          "text": [
            "              precision    recall  f1-score   support\n",
            "\n",
            "        منفی       0.53      0.64      0.58        14\n",
            "        خنثی       0.67      0.67      0.67        33\n",
            "        مثبت       0.59      0.52      0.55        25\n",
            "\n",
            "    accuracy                           0.61        72\n",
            "   macro avg       0.60      0.61      0.60        72\n",
            "weighted avg       0.61      0.61      0.61        72\n",
            "\n"
          ]
        }
      ]
    },
    {
      "cell_type": "code",
      "source": [
        "def show_confusion_matrix(confusion_matrix):\n",
        "  hmap = sns.heatmap(confusion_matrix, annot=True, fmt=\"d\", cmap=\"Blues\")\n",
        "  hmap.yaxis.set_ticklabels(hmap.yaxis.get_ticklabels(), rotation=0, ha='right')\n",
        "  hmap.xaxis.set_ticklabels(hmap.xaxis.get_ticklabels(), rotation=30, ha='right')\n",
        "  plt.ylabel('True sentiment')\n",
        "  plt.xlabel('Predicted sentiment');\n",
        "\n",
        "cm = confusion_matrix(y_test, y_pred)\n",
        "class_names = ['منفی','خنثی','مثبت']\n",
        "df_cm = pd.DataFrame(cm, index=class_names, columns=class_names)\n",
        "show_confusion_matrix(df_cm)"
      ],
      "metadata": {
        "colab": {
          "base_uri": "https://localhost:8080/",
          "height": 310
        },
        "id": "gq7onPC5T8Bt",
        "outputId": "cdcc6be0-9333-4f61-dc83-88e8110ea85b"
      },
      "execution_count": null,
      "outputs": [
        {
          "output_type": "display_data",
          "data": {
            "text/plain": [
              "<Figure size 432x288 with 2 Axes>"
            ],
            "image/png": "[encoded data removed]"
          },
          "metadata": {
            "image/png": {
              "width": 421,
              "height": 293
            },
            "needs_background": "light"
          }
        }
      ]
    },
    {
      "cell_type": "code",
      "source": [
        "print(test_df['raw'].values[0])\n",
        "print(model.predict)"
      ],
      "metadata": {
        "colab": {
          "base_uri": "https://localhost:8080/"
        },
        "id": "BZy3zCsPVcWf",
        "outputId": "f1ddb67d-459d-47df-eca2-916ba4810891"
      },
      "execution_count": null,
      "outputs": [
        {
          "output_type": "stream",
          "name": "stdout",
          "text": [
            "رکوردشکنی رمزارز دوم\n",
            "____________\n",
            "جریان مداوم اخبار درباره پذیرش ارزهای دیجیتال توسط بانک ها، رشد توکن های غیرقابل تعویض NFT در پلت فرم های بازی مجازی، راه اندازی صندوق های قابل معامله ETF ایالات متحده مبتنی بر معاملات آتی بیت کوین و نیاز سرمایه گذاران به تنوع در یک محیط با نرخ بهره نامشخص، رمزارزها را از اواخر ماه سپتامبر تحت فشار صعودی قرار داده است. رایان راباگلیا، مدیرعامل و رئیس تجارت جهانی در پلت فرم دارایی دیجیتال OSL نیز گفت: «از زمان برگشت بازار در پایان سپتامبر، اتریوم و بیت کوین و سایر ارزهای بزرگ با قدرت در حال حرکت هستند\n",
            "<bound method Model.predict of <keras.engine.sequential.Sequential object at 0x7fdb351893d0>>\n"
          ]
        }
      ]
    },
    {
      "cell_type": "code",
      "source": [
        "idx = 20\n",
        "y_review_texts = test_df['raw'].values\n",
        "review_text = y_review_texts[idx]\n",
        "true_sentiment = y_test[idx]\n",
        "pred_df = pd.DataFrame({\n",
        "  'class_names': class_names,\n",
        "  'values': y_probs[idx]\n",
        "})\n",
        "\n",
        "\n",
        "print(\"\\n\".join(wrap(review_text)))\n",
        "print()\n",
        "print(f'True sentiment: {class_names[true_sentiment]}')\n",
        "\n",
        "\n",
        "sns.barplot(x='values', y='class_names', data=pred_df, orient='h')\n",
        "plt.ylabel('sentiment')\n",
        "plt.xlabel('probability')\n",
        "plt.xlim([0, 1]);"
      ],
      "metadata": {
        "colab": {
          "base_uri": "https://localhost:8080/",
          "height": 497
        },
        "id": "cSpYvQmqXFAL",
        "outputId": "53a40dcf-24c2-44a5-869d-0867b9a21631"
      },
      "execution_count": null,
      "outputs": [
        {
          "output_type": "stream",
          "name": "stdout",
          "text": [
            "تداوم بی رونقی بازارهای داخلی ____________ همراه با کاهش نرخ بازده\n",
            "اوراق قرضه ایالات متحده آمریکا، طلا توانست بار دیگر صعودی شده و در روز\n",
            "جمعه حتی تا نزدیکی 1780 دلار نیز صعود کرده و در نهایت، بهای هر اونس\n",
            "طلا در آخرین روز معاملاتی بازار جهانی۱0 دلار و 1۰ سنت معادل 6/ 0 درصد\n",
            "افزایش یافت و در ۱۷76 دلار و 9۰ سنت بسته شد که بالاترین قیمت از ۲۴\n",
            "فوریه بود. پس از اینکه قیمت طلا سطح مقاومتی مهم ۱۷۶۵ دلار را شکست و در\n",
            "بالاترین حد دو ماه گذشته قرار گرفت، تحلیلگران به روند افزایشی طلا در\n",
            "معاملات هفته جاری بی نهایت خوش بین شدند و بر این باورند که طلا می\n",
            "تواند سطح روانی 1800 دلار را به دست آورده و صعود های بیشتری از خود\n",
            "نشان دهد\n",
            "\n",
            "True sentiment: منفی\n"
          ]
        },
        {
          "output_type": "display_data",
          "data": {
            "text/plain": [
              "<Figure size 432x288 with 1 Axes>"
            ],
            "image/png": "[encoded data removed]"
          },
          "metadata": {
            "image/png": {
              "width": 432,
              "height": 272
            },
            "needs_background": "light"
          }
        }
      ]
    },
    {
      "cell_type": "code",
      "source": [
        "idx = 21\n",
        "y_review_texts = test_df['raw'].values\n",
        "review_text = y_review_texts[idx]\n",
        "true_sentiment = y_test[idx]\n",
        "pred_df = pd.DataFrame({\n",
        "  'class_names': class_names,\n",
        "  'values': y_probs[idx]\n",
        "})\n",
        "\n",
        "\n",
        "print(\"\\n\".join(wrap(review_text)))\n",
        "print()\n",
        "print(f'True sentiment: {class_names[true_sentiment]}')\n",
        "\n",
        "\n",
        "sns.barplot(x='values', y='class_names', data=pred_df, orient='h')\n",
        "plt.ylabel('sentiment')\n",
        "plt.xlabel('probability')\n",
        "plt.xlim([0, 1]);"
      ],
      "metadata": {
        "colab": {
          "base_uri": "https://localhost:8080/",
          "height": 411
        },
        "id": "y35AQfUkWWi5",
        "outputId": "90210bd3-007d-4504-c5d3-f989331b589c"
      },
      "execution_count": null,
      "outputs": [
        {
          "output_type": "stream",
          "name": "stdout",
          "text": [
            "راهنمای دانلود انواع ریمیکس و آهنگ های مختلف ____________ بسیاری از\n",
            "کاربران نمی توانند به راحتی آهنگ و یا ریمیکس آهنگ مورد نظر خود را در\n",
            "اینترنت بیابند و یا راه های دستیابی به آن را بلد نیستند و یا در دانلود\n",
            "نمودن آنها به مشکل برمی خورند. روش های دانلود کردن آهنگ و ریمیکس آهنگ\n",
            "با گوشی موبایل آیفون\n",
            "\n",
            "True sentiment: خنثی\n"
          ]
        },
        {
          "output_type": "display_data",
          "data": {
            "text/plain": [
              "<Figure size 432x288 with 1 Axes>"
            ],
            "image/png": "[encoded data removed]"
          },
          "metadata": {
            "image/png": {
              "width": 432,
              "height": 272
            },
            "needs_background": "light"
          }
        }
      ]
    },
    {
      "cell_type": "code",
      "source": [
        "idx = 29\n",
        "y_review_texts = test_df['raw'].values\n",
        "review_text = y_review_texts[idx]\n",
        "true_sentiment = y_test[idx]\n",
        "pred_df = pd.DataFrame({\n",
        "  'class_names': class_names,\n",
        "  'values': y_probs[idx]\n",
        "})\n",
        "\n",
        "\n",
        "print(\"\\n\".join(wrap(review_text)))\n",
        "print()\n",
        "print(f'True sentiment: {class_names[true_sentiment]}')\n",
        "\n",
        "\n",
        "sns.barplot(x='values', y='class_names', data=pred_df, orient='h')\n",
        "plt.ylabel('sentiment')\n",
        "plt.xlabel('probability')\n",
        "plt.xlim([0, 1]);"
      ],
      "metadata": {
        "colab": {
          "base_uri": "https://localhost:8080/",
          "height": 480
        },
        "id": "QAHBYanmXJ0n",
        "outputId": "fe40d5f8-3932-4044-caac-dfaa2b2add45"
      },
      "execution_count": null,
      "outputs": [
        {
          "output_type": "stream",
          "name": "stdout",
          "text": [
            "٢٠ زندانی در شب شهادت امام موسی بن جعفر (ع) آزاد می شوند ____________\n",
            "به گزارش خبرنگار خبرگزاری شبستان از گرگان، «ابوالفضل بخشیانی» امروز\n",
            "چهارشنبه ۴ اسفند در جمع خبرنگاران گفت: امسال هیئت مهدویون شهرستان\n",
            "گرگان در قالب مرکز نیکوکاری و موکب با همکاری دستگاه های اجرایی،\n",
            "استانداری و فرمانداری ها و همه بانیان دست به دست هم داد تا برای اولین\n",
            "بار یک موکب همزمان با سالروز شهادت امام موسی بن جعفر ع در کاظمین ٧٩\n",
            "دیگ اطعام کاظمی را آنجا برپا کند. وی اظهارداشت: مراسم آزادی ٢٠ زندانی\n",
            "همزمان با شب شهادت موسی جعفر ع همراه با پرچم حرم حضرت معصومه س در روز\n",
            "شنبه ٧ اسفند در امامزاده عبدالله ع گرگان برگزار می شود\n",
            "\n",
            "True sentiment: مثبت\n"
          ]
        },
        {
          "output_type": "display_data",
          "data": {
            "text/plain": [
              "<Figure size 432x288 with 1 Axes>"
            ],
            "image/png": "[encoded data removed]"
          },
          "metadata": {
            "image/png": {
              "width": 432,
              "height": 272
            },
            "needs_background": "light"
          }
        }
      ]
    }
  ],
  "metadata": {
    "colab": {
      "collapsed_sections": [],
      "name": "RNN_based_Sentiment_Analysis(1).ipynb",
      "provenance": []
    },
    "gpuClass": "standard",
    "kernelspec": {
      "display_name": "Python 3",
      "name": "python3"
    },
    "language_info": {
      "name": "python"
    },
    "accelerator": "GPU"
  },
  "nbformat": 4,
  "nbformat_minor": 0
}